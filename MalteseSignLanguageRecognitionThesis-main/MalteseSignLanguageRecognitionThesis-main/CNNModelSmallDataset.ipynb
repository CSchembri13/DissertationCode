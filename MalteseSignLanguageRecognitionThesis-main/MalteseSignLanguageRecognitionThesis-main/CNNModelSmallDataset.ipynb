{
 "cells": [
  {
   "cell_type": "code",
   "execution_count": 2,
   "metadata": {},
   "outputs": [],
   "source": [
    "import numpy as np\n",
    "import os\n",
    "import matplotlib.pyplot as plt\n",
    "from sklearn.model_selection import train_test_split\n",
    "from tensorflow.keras.utils import to_categorical\n",
    "from tensorflow.keras.models import Sequential\n",
    "from tensorflow.keras.layers import LSTM, Dense, Conv1D, MaxPooling1D, Flatten,SimpleRNN\n",
    "from tensorflow.keras.callbacks import TensorBoard\n",
    "from sklearn.metrics import classification_report, multilabel_confusion_matrix, accuracy_score"
   ]
  },
  {
   "cell_type": "code",
   "execution_count": 3,
   "metadata": {},
   "outputs": [],
   "source": [
    "# Path for exported data, numpy arrays\n",
    "DATA_PATH = os.path.join('..\\largedata')\n",
    "\n",
    "# Actions that we try to detect  actions = np.array(['Familja', 'Missier', 'Bieb'])\n",
    "actions = np.array(['Kont', 'Dar', 'Flus', 'Missier', 'Passaport'])\n",
    "\n",
    "# Thirty videos worth of data\n",
    "no_sequences = 30\n",
    "\n",
    "# Videos are going to be 30 frames in length\n",
    "sequence_length = 30\n",
    "\n",
    "# Folder start\n",
    "start_folder = 0\n",
    "\n",
    "label_map = {label:num for num, label in enumerate(actions)}\n",
    "\n",
    "label_map # When this is added accuracy skyrockets IMP\n",
    "\n",
    "sequences, labels = [], []\n",
    "for action in actions:\n",
    "    for sequence in np.array(os.listdir(os.path.join(DATA_PATH, action))).astype(int):\n",
    "        window = []\n",
    "        for frame_num in range(sequence_length):\n",
    "            res = np.load(os.path.join(DATA_PATH, action, str(sequence), \"{}.npy\".format(frame_num)))\n",
    "            window.append(res)\n",
    "        sequences.append(window)\n",
    "        labels.append(label_map[action])\n",
    "\n",
    "np.array(sequences).shape\n",
    "np.array(labels).shape\n",
    "X = np.array(sequences)\n",
    "X.shape\n",
    "y = to_categorical(labels).astype(int)\n",
    "X_train, X_test, y_train, y_test = train_test_split(X, y, test_size=0.2)\n",
    "y_test.shape\n",
    "\n",
    "log_dir = os.path.join('Logs')\n",
    "tb_callback = TensorBoard(log_dir=log_dir)"
   ]
  },
  {
   "cell_type": "code",
   "execution_count": 4,
   "metadata": {},
   "outputs": [],
   "source": [
    "X = np.array(sequences)\n",
    "y = to_categorical(labels)\n",
    "X_train, X_test, y_train, y_test = train_test_split(X, y, test_size=0.2)"
   ]
  },
  {
   "cell_type": "code",
   "execution_count": 5,
   "metadata": {},
   "outputs": [],
   "source": [
    "def create_cnn_model(input_shape, num_classes):\n",
    "    model = Sequential()\n",
    "    model.add(Conv1D(filters=64, kernel_size=3, activation='relu', input_shape=input_shape))\n",
    "    model.add(MaxPooling1D(pool_size=2))\n",
    "    model.add(Flatten())\n",
    "    model.add(Dense(50, activation='relu'))\n",
    "    model.add(Dense(num_classes, activation='softmax'))\n",
    "    return model"
   ]
  },
  {
   "cell_type": "code",
   "execution_count": 6,
   "metadata": {},
   "outputs": [
    {
     "name": "stdout",
     "output_type": "stream",
     "text": [
      "Epoch 1/50\n",
      "4/4 [==============================] - 7s 26ms/step - loss: 2.1325 - categorical_accuracy: 0.2083\n",
      "Epoch 2/50\n",
      "4/4 [==============================] - 0s 7ms/step - loss: 1.7744 - categorical_accuracy: 0.3000\n",
      "Epoch 3/50\n",
      "4/4 [==============================] - 0s 7ms/step - loss: 1.4505 - categorical_accuracy: 0.3750\n",
      "Epoch 4/50\n",
      "4/4 [==============================] - 0s 7ms/step - loss: 1.3796 - categorical_accuracy: 0.3750\n",
      "Epoch 5/50\n",
      "4/4 [==============================] - 0s 6ms/step - loss: 1.1729 - categorical_accuracy: 0.6000\n",
      "Epoch 6/50\n",
      "4/4 [==============================] - 0s 6ms/step - loss: 1.0476 - categorical_accuracy: 0.5750\n",
      "Epoch 7/50\n",
      "4/4 [==============================] - 0s 6ms/step - loss: 0.9967 - categorical_accuracy: 0.6833\n",
      "Epoch 8/50\n",
      "4/4 [==============================] - 0s 6ms/step - loss: 0.9368 - categorical_accuracy: 0.6750\n",
      "Epoch 9/50\n",
      "4/4 [==============================] - 0s 6ms/step - loss: 0.8028 - categorical_accuracy: 0.7083\n",
      "Epoch 10/50\n",
      "4/4 [==============================] - 0s 7ms/step - loss: 0.7427 - categorical_accuracy: 0.7583\n",
      "Epoch 11/50\n",
      "4/4 [==============================] - 0s 6ms/step - loss: 0.6608 - categorical_accuracy: 0.8500\n",
      "Epoch 12/50\n",
      "4/4 [==============================] - 0s 6ms/step - loss: 0.5814 - categorical_accuracy: 0.8583\n",
      "Epoch 13/50\n",
      "4/4 [==============================] - 0s 6ms/step - loss: 0.5507 - categorical_accuracy: 0.8667\n",
      "Epoch 14/50\n",
      "4/4 [==============================] - 0s 7ms/step - loss: 0.5674 - categorical_accuracy: 0.8250\n",
      "Epoch 15/50\n",
      "4/4 [==============================] - 0s 7ms/step - loss: 0.5764 - categorical_accuracy: 0.8167\n",
      "Epoch 16/50\n",
      "4/4 [==============================] - 0s 7ms/step - loss: 0.4633 - categorical_accuracy: 0.8250\n",
      "Epoch 17/50\n",
      "4/4 [==============================] - 0s 7ms/step - loss: 0.4100 - categorical_accuracy: 0.9417\n",
      "Epoch 18/50\n",
      "4/4 [==============================] - 0s 6ms/step - loss: 0.4355 - categorical_accuracy: 0.8667\n",
      "Epoch 19/50\n",
      "4/4 [==============================] - 0s 6ms/step - loss: 0.3366 - categorical_accuracy: 0.9333\n",
      "Epoch 20/50\n",
      "4/4 [==============================] - 0s 6ms/step - loss: 0.3274 - categorical_accuracy: 0.9333\n",
      "Epoch 21/50\n",
      "4/4 [==============================] - 0s 6ms/step - loss: 0.2892 - categorical_accuracy: 0.9333\n",
      "Epoch 22/50\n",
      "4/4 [==============================] - 0s 6ms/step - loss: 0.2518 - categorical_accuracy: 0.9500\n",
      "Epoch 23/50\n",
      "4/4 [==============================] - 0s 6ms/step - loss: 0.2193 - categorical_accuracy: 0.9667\n",
      "Epoch 24/50\n",
      "4/4 [==============================] - 0s 6ms/step - loss: 0.2283 - categorical_accuracy: 0.9250\n",
      "Epoch 25/50\n",
      "4/4 [==============================] - 0s 6ms/step - loss: 0.2151 - categorical_accuracy: 0.9500\n",
      "Epoch 26/50\n",
      "4/4 [==============================] - 0s 7ms/step - loss: 0.2938 - categorical_accuracy: 0.8833\n",
      "Epoch 27/50\n",
      "4/4 [==============================] - 0s 6ms/step - loss: 0.2030 - categorical_accuracy: 0.9333\n",
      "Epoch 28/50\n",
      "4/4 [==============================] - 0s 6ms/step - loss: 0.1784 - categorical_accuracy: 0.9667\n",
      "Epoch 29/50\n",
      "4/4 [==============================] - 0s 6ms/step - loss: 0.2237 - categorical_accuracy: 0.9250\n",
      "Epoch 30/50\n",
      "4/4 [==============================] - 0s 6ms/step - loss: 0.2419 - categorical_accuracy: 0.9250\n",
      "Epoch 31/50\n",
      "4/4 [==============================] - 0s 6ms/step - loss: 0.3211 - categorical_accuracy: 0.8667\n",
      "Epoch 32/50\n",
      "4/4 [==============================] - 0s 6ms/step - loss: 0.6538 - categorical_accuracy: 0.7750\n",
      "Epoch 33/50\n",
      "4/4 [==============================] - 0s 7ms/step - loss: 0.7077 - categorical_accuracy: 0.7417\n",
      "Epoch 34/50\n",
      "4/4 [==============================] - 0s 9ms/step - loss: 0.4483 - categorical_accuracy: 0.7667\n",
      "Epoch 35/50\n",
      "4/4 [==============================] - 0s 7ms/step - loss: 0.3842 - categorical_accuracy: 0.8667\n",
      "Epoch 36/50\n",
      "4/4 [==============================] - 0s 6ms/step - loss: 0.3432 - categorical_accuracy: 0.8583\n",
      "Epoch 37/50\n",
      "4/4 [==============================] - 0s 6ms/step - loss: 0.2065 - categorical_accuracy: 0.9250\n",
      "Epoch 38/50\n",
      "4/4 [==============================] - 0s 6ms/step - loss: 0.1951 - categorical_accuracy: 0.9667\n",
      "Epoch 39/50\n",
      "4/4 [==============================] - 0s 6ms/step - loss: 0.2110 - categorical_accuracy: 0.9000\n",
      "Epoch 40/50\n",
      "4/4 [==============================] - 0s 7ms/step - loss: 0.1530 - categorical_accuracy: 0.9667\n",
      "Epoch 41/50\n",
      "4/4 [==============================] - 0s 6ms/step - loss: 0.1501 - categorical_accuracy: 0.9500\n",
      "Epoch 42/50\n",
      "4/4 [==============================] - 0s 6ms/step - loss: 0.1185 - categorical_accuracy: 0.9667\n",
      "Epoch 43/50\n",
      "4/4 [==============================] - 0s 6ms/step - loss: 0.1179 - categorical_accuracy: 0.9583\n",
      "Epoch 44/50\n",
      "4/4 [==============================] - 0s 7ms/step - loss: 0.1036 - categorical_accuracy: 0.9750\n",
      "Epoch 45/50\n",
      "4/4 [==============================] - 0s 7ms/step - loss: 0.0940 - categorical_accuracy: 0.9750\n",
      "Epoch 46/50\n",
      "4/4 [==============================] - 0s 7ms/step - loss: 0.0842 - categorical_accuracy: 0.9750\n",
      "Epoch 47/50\n",
      "4/4 [==============================] - 0s 7ms/step - loss: 0.0757 - categorical_accuracy: 0.9833\n",
      "Epoch 48/50\n",
      "4/4 [==============================] - 0s 7ms/step - loss: 0.0861 - categorical_accuracy: 0.9667\n",
      "Epoch 49/50\n",
      "4/4 [==============================] - 0s 7ms/step - loss: 0.1135 - categorical_accuracy: 0.9583\n",
      "Epoch 50/50\n",
      "4/4 [==============================] - 0s 7ms/step - loss: 0.1171 - categorical_accuracy: 0.9667\n"
     ]
    },
    {
     "data": {
      "text/plain": [
       "<keras.callbacks.History at 0x1f8c93f6a90>"
      ]
     },
     "execution_count": 6,
     "metadata": {},
     "output_type": "execute_result"
    }
   ],
   "source": [
    "input_shape = (30, 1662)\n",
    "num_classes = len(actions)\n",
    "\n",
    "model = create_cnn_model(input_shape, num_classes)\n",
    "model.compile(optimizer='Adam', loss='categorical_crossentropy', metrics=['categorical_accuracy'])\n",
    "model.fit(X_train, y_train, epochs=50, callbacks=[TensorBoard(log_dir='Logs')])"
   ]
  },
  {
   "cell_type": "code",
   "execution_count": 7,
   "metadata": {},
   "outputs": [
    {
     "name": "stdout",
     "output_type": "stream",
     "text": [
      "1/1 [==============================] - 0s 154ms/step\n",
      "              precision    recall  f1-score   support\n",
      "\n",
      "        Kont       1.00      1.00      1.00         7\n",
      "         Dar       1.00      0.88      0.93         8\n",
      "        Flus       1.00      1.00      1.00         4\n",
      "     Missier       0.86      1.00      0.92         6\n",
      "   Passaport       1.00      1.00      1.00         5\n",
      "\n",
      "    accuracy                           0.97        30\n",
      "   macro avg       0.97      0.97      0.97        30\n",
      "weighted avg       0.97      0.97      0.97        30\n",
      "\n",
      "Confusion Matrix\n",
      "[[[23  0]\n",
      "  [ 0  7]]\n",
      "\n",
      " [[22  0]\n",
      "  [ 1  7]]\n",
      "\n",
      " [[26  0]\n",
      "  [ 0  4]]\n",
      "\n",
      " [[23  1]\n",
      "  [ 0  6]]\n",
      "\n",
      " [[25  0]\n",
      "  [ 0  5]]]\n",
      "Accuracy\n",
      "0.9666666666666667\n"
     ]
    }
   ],
   "source": [
    "yhat = np.argmax(model.predict(X_test), axis=1)\n",
    "ytrue = np.argmax(y_test, axis=1)\n",
    "print(classification_report(ytrue, yhat, target_names=actions, zero_division=0))\n",
    "print(\"Confusion Matrix\")\n",
    "print(multilabel_confusion_matrix(ytrue, yhat))\n",
    "print(\"Accuracy\")\n",
    "print(accuracy_score(ytrue, yhat))"
   ]
  },
  {
   "cell_type": "code",
   "execution_count": 11,
   "metadata": {},
   "outputs": [
    {
     "name": "stdout",
     "output_type": "stream",
     "text": [
      "1/1 [==============================] - 0s 21ms/step\n"
     ]
    },
    {
     "data": {
      "text/plain": [
       "<Figure size 900x600 with 0 Axes>"
      ]
     },
     "metadata": {},
     "output_type": "display_data"
    },
    {
     "data": {
      "image/png": "[encoded data removed]",
      "text/plain": [
       "<Figure size 640x480 with 2 Axes>"
      ]
     },
     "metadata": {},
     "output_type": "display_data"
    }
   ],
   "source": [
    "from sklearn.metrics import confusion_matrix, ConfusionMatrixDisplay\n",
    "import numpy as np\n",
    "\n",
    "y_pred = np.argmax(model.predict(X_test), axis=1)\n",
    "y_true = np.argmax(y_test, axis=1)\n",
    "\n",
    "cm = confusion_matrix(y_true, y_pred)\n",
    "\n",
    "plt.figure(figsize=(9, 6))\n",
    "ConfusionMatrixDisplay(cm, display_labels=actions).plot(cmap='Blues')\n",
    "plt.title('Small Dataset Confusion Matrix')\n",
    "plt.show()\n"
   ]
  },
  {
   "cell_type": "code",
   "execution_count": null,
   "metadata": {},
   "outputs": [],
   "source": [
    "model.save('model1.h5')"
   ]
  }
 ],
 "metadata": {
  "kernelspec": {
   "display_name": "Carm3.0",
   "language": "python",
   "name": "python3"
  },
  "language_info": {
   "codemirror_mode": {
    "name": "ipython",
    "version": 3
   },
   "file_extension": ".py",
   "mimetype": "text/x-python",
   "name": "python",
   "nbconvert_exporter": "python",
   "pygments_lexer": "ipython3",
   "version": "3.8.18"
  }
 },
 "nbformat": 4,
 "nbformat_minor": 2
}
