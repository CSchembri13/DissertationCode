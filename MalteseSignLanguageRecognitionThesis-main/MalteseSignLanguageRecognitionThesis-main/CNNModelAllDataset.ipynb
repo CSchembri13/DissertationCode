{
 "cells": [
  {
   "cell_type": "code",
   "execution_count": 1,
   "metadata": {},
   "outputs": [],
   "source": [
    "import numpy as np\n",
    "import os\n",
    "import matplotlib.pyplot as plt\n",
    "from sklearn.model_selection import train_test_split\n",
    "from tensorflow.keras.utils import to_categorical\n",
    "from tensorflow.keras.models import Sequential\n",
    "from tensorflow.keras.layers import LSTM, Dense, Conv1D, MaxPooling1D, Flatten,SimpleRNN\n",
    "from tensorflow.keras.callbacks import TensorBoard\n",
    "from sklearn.metrics import classification_report, multilabel_confusion_matrix, accuracy_score"
   ]
  },
  {
   "cell_type": "code",
   "execution_count": 2,
   "metadata": {},
   "outputs": [],
   "source": [
    "# Path for exported data, numpy arrays\n",
    "DATA_PATH = os.path.join('..\\largedata')\n",
    "\n",
    "# Actions that we try to detect  actions = np.array(['Familja', 'Missier', 'Bieb'])\n",
    "actions = np.array(['Kont', 'Dar', 'Flus', 'Missier', 'Passaport','Jekk','Widnejn','Issib','Ħalq','Tiegħi'])\n",
    "\n",
    "# Thirty videos worth of data\n",
    "no_sequences = 30\n",
    "\n",
    "# Videos are going to be 30 frames in length\n",
    "sequence_length = 30\n",
    "\n",
    "# Folder start\n",
    "start_folder = 0\n",
    "\n",
    "label_map = {label:num for num, label in enumerate(actions)}\n",
    "\n",
    "label_map # When this is added accuracy skyrockets IMP\n",
    "\n",
    "sequences, labels = [], []\n",
    "for action in actions:\n",
    "    for sequence in np.array(os.listdir(os.path.join(DATA_PATH, action))).astype(int):\n",
    "        window = []\n",
    "        for frame_num in range(sequence_length):\n",
    "            res = np.load(os.path.join(DATA_PATH, action, str(sequence), \"{}.npy\".format(frame_num)))\n",
    "            window.append(res)\n",
    "        sequences.append(window)\n",
    "        labels.append(label_map[action])\n",
    "\n",
    "np.array(sequences).shape\n",
    "np.array(labels).shape\n",
    "X = np.array(sequences)\n",
    "X.shape\n",
    "y = to_categorical(labels).astype(int)\n",
    "X_train, X_test, y_train, y_test = train_test_split(X, y, test_size=0.2)\n",
    "y_test.shape\n",
    "\n",
    "log_dir = os.path.join('Logs')\n",
    "tb_callback = TensorBoard(log_dir=log_dir)"
   ]
  },
  {
   "cell_type": "code",
   "execution_count": 3,
   "metadata": {},
   "outputs": [],
   "source": [
    "X = np.array(sequences)\n",
    "y = to_categorical(labels)\n",
    "X_train, X_test, y_train, y_test = train_test_split(X, y, test_size=0.2)"
   ]
  },
  {
   "cell_type": "code",
   "execution_count": 4,
   "metadata": {},
   "outputs": [],
   "source": [
    "def create_cnn_model(input_shape, num_classes):\n",
    "    model = Sequential()\n",
    "    model.add(Conv1D(filters=64, kernel_size=3, activation='relu', input_shape=input_shape))\n",
    "    model.add(MaxPooling1D(pool_size=2))\n",
    "    model.add(Flatten())\n",
    "    model.add(Dense(50, activation='relu'))\n",
    "    model.add(Dense(num_classes, activation='softmax'))\n",
    "    return model"
   ]
  },
  {
   "cell_type": "code",
   "execution_count": 8,
   "metadata": {},
   "outputs": [
    {
     "name": "stdout",
     "output_type": "stream",
     "text": [
      "Epoch 1/50\n",
      "8/8 [==============================] - 0s 5ms/step - loss: 2.4234 - categorical_accuracy: 0.1500\n",
      "Epoch 2/50\n",
      "8/8 [==============================] - 0s 6ms/step - loss: 2.3274 - categorical_accuracy: 0.1542\n",
      "Epoch 3/50\n",
      "8/8 [==============================] - 0s 6ms/step - loss: 2.1170 - categorical_accuracy: 0.2542\n",
      "Epoch 4/50\n",
      "8/8 [==============================] - 0s 6ms/step - loss: 1.8918 - categorical_accuracy: 0.3000\n",
      "Epoch 5/50\n",
      "8/8 [==============================] - 0s 6ms/step - loss: 1.6912 - categorical_accuracy: 0.3417\n",
      "Epoch 6/50\n",
      "8/8 [==============================] - 0s 6ms/step - loss: 1.5615 - categorical_accuracy: 0.3875\n",
      "Epoch 7/50\n",
      "8/8 [==============================] - 0s 6ms/step - loss: 1.3909 - categorical_accuracy: 0.5208\n",
      "Epoch 8/50\n",
      "8/8 [==============================] - 0s 6ms/step - loss: 1.1504 - categorical_accuracy: 0.6833\n",
      "Epoch 9/50\n",
      "8/8 [==============================] - 0s 6ms/step - loss: 0.9719 - categorical_accuracy: 0.7458\n",
      "Epoch 10/50\n",
      "8/8 [==============================] - 0s 6ms/step - loss: 0.7917 - categorical_accuracy: 0.7833\n",
      "Epoch 11/50\n",
      "8/8 [==============================] - 0s 6ms/step - loss: 0.7159 - categorical_accuracy: 0.7958\n",
      "Epoch 12/50\n",
      "8/8 [==============================] - 0s 6ms/step - loss: 0.6135 - categorical_accuracy: 0.8125\n",
      "Epoch 13/50\n",
      "8/8 [==============================] - 0s 6ms/step - loss: 0.5043 - categorical_accuracy: 0.8833\n",
      "Epoch 14/50\n",
      "8/8 [==============================] - 0s 6ms/step - loss: 0.4885 - categorical_accuracy: 0.8500\n",
      "Epoch 15/50\n",
      "8/8 [==============================] - 0s 6ms/step - loss: 0.5197 - categorical_accuracy: 0.8042\n",
      "Epoch 16/50\n",
      "8/8 [==============================] - 0s 6ms/step - loss: 0.4222 - categorical_accuracy: 0.8792\n",
      "Epoch 17/50\n",
      "8/8 [==============================] - 0s 6ms/step - loss: 0.4312 - categorical_accuracy: 0.8667\n",
      "Epoch 18/50\n",
      "8/8 [==============================] - 0s 6ms/step - loss: 0.3751 - categorical_accuracy: 0.9083\n",
      "Epoch 19/50\n",
      "8/8 [==============================] - 0s 6ms/step - loss: 0.3048 - categorical_accuracy: 0.9333\n",
      "Epoch 20/50\n",
      "8/8 [==============================] - 0s 6ms/step - loss: 0.3521 - categorical_accuracy: 0.8958\n",
      "Epoch 21/50\n",
      "8/8 [==============================] - 0s 6ms/step - loss: 0.2809 - categorical_accuracy: 0.9292\n",
      "Epoch 22/50\n",
      "8/8 [==============================] - 0s 6ms/step - loss: 0.2563 - categorical_accuracy: 0.9208\n",
      "Epoch 23/50\n",
      "8/8 [==============================] - 0s 6ms/step - loss: 0.2434 - categorical_accuracy: 0.9208\n",
      "Epoch 24/50\n",
      "8/8 [==============================] - 0s 6ms/step - loss: 0.2515 - categorical_accuracy: 0.9208\n",
      "Epoch 25/50\n",
      "8/8 [==============================] - 0s 5ms/step - loss: 0.2302 - categorical_accuracy: 0.9292\n",
      "Epoch 26/50\n",
      "8/8 [==============================] - 0s 5ms/step - loss: 0.1784 - categorical_accuracy: 0.9667\n",
      "Epoch 27/50\n",
      "8/8 [==============================] - 0s 5ms/step - loss: 0.2089 - categorical_accuracy: 0.9292\n",
      "Epoch 28/50\n",
      "8/8 [==============================] - 0s 5ms/step - loss: 0.1593 - categorical_accuracy: 0.9625\n",
      "Epoch 29/50\n",
      "8/8 [==============================] - 0s 5ms/step - loss: 0.1579 - categorical_accuracy: 0.9458\n",
      "Epoch 30/50\n",
      "8/8 [==============================] - 0s 5ms/step - loss: 0.2210 - categorical_accuracy: 0.9208\n",
      "Epoch 31/50\n",
      "8/8 [==============================] - 0s 6ms/step - loss: 0.1898 - categorical_accuracy: 0.9458\n",
      "Epoch 32/50\n",
      "8/8 [==============================] - 0s 5ms/step - loss: 0.1445 - categorical_accuracy: 0.9750\n",
      "Epoch 33/50\n",
      "8/8 [==============================] - 0s 6ms/step - loss: 0.1395 - categorical_accuracy: 0.9708\n",
      "Epoch 34/50\n",
      "8/8 [==============================] - 0s 5ms/step - loss: 0.1107 - categorical_accuracy: 0.9792\n",
      "Epoch 35/50\n",
      "8/8 [==============================] - 0s 5ms/step - loss: 0.0996 - categorical_accuracy: 0.9958\n",
      "Epoch 36/50\n",
      "8/8 [==============================] - 0s 6ms/step - loss: 0.1115 - categorical_accuracy: 0.9708\n",
      "Epoch 37/50\n",
      "8/8 [==============================] - 0s 6ms/step - loss: 0.1251 - categorical_accuracy: 0.9583\n",
      "Epoch 38/50\n",
      "8/8 [==============================] - 0s 6ms/step - loss: 0.1000 - categorical_accuracy: 0.9750\n",
      "Epoch 39/50\n",
      "8/8 [==============================] - 0s 6ms/step - loss: 0.0895 - categorical_accuracy: 0.9792\n",
      "Epoch 40/50\n",
      "8/8 [==============================] - 0s 6ms/step - loss: 0.0754 - categorical_accuracy: 0.9833\n",
      "Epoch 41/50\n",
      "8/8 [==============================] - 0s 6ms/step - loss: 0.0742 - categorical_accuracy: 0.9875\n",
      "Epoch 42/50\n",
      "8/8 [==============================] - 0s 6ms/step - loss: 0.0912 - categorical_accuracy: 0.9792\n",
      "Epoch 43/50\n",
      "8/8 [==============================] - 0s 5ms/step - loss: 0.0925 - categorical_accuracy: 0.9667\n",
      "Epoch 44/50\n",
      "8/8 [==============================] - 0s 5ms/step - loss: 0.0851 - categorical_accuracy: 0.9708\n",
      "Epoch 45/50\n",
      "8/8 [==============================] - 0s 6ms/step - loss: 0.0559 - categorical_accuracy: 1.0000\n",
      "Epoch 46/50\n",
      "8/8 [==============================] - 0s 8ms/step - loss: 0.0512 - categorical_accuracy: 0.9917\n",
      "Epoch 47/50\n",
      "8/8 [==============================] - 0s 6ms/step - loss: 0.0477 - categorical_accuracy: 1.0000\n",
      "Epoch 48/50\n",
      "8/8 [==============================] - 0s 5ms/step - loss: 0.0575 - categorical_accuracy: 0.9917\n",
      "Epoch 49/50\n",
      "8/8 [==============================] - 0s 5ms/step - loss: 0.0585 - categorical_accuracy: 0.9958\n",
      "Epoch 50/50\n",
      "8/8 [==============================] - 0s 5ms/step - loss: 0.0468 - categorical_accuracy: 0.9917\n"
     ]
    },
    {
     "data": {
      "text/plain": [
       "<keras.callbacks.History at 0x2269137f760>"
      ]
     },
     "execution_count": 8,
     "metadata": {},
     "output_type": "execute_result"
    }
   ],
   "source": [
    "input_shape = (30, 1662)\n",
    "num_classes = len(actions)\n",
    "\n",
    "model = create_cnn_model(input_shape, num_classes)\n",
    "model.compile(optimizer='Adam', loss='categorical_crossentropy', metrics=['categorical_accuracy'])\n",
    "model.fit(X_train, y_train, epochs=50, callbacks=[TensorBoard(log_dir='Logs')])"
   ]
  },
  {
   "cell_type": "code",
   "execution_count": 9,
   "metadata": {},
   "outputs": [
    {
     "name": "stdout",
     "output_type": "stream",
     "text": [
      "2/2 [==============================] - 0s 4ms/step\n",
      "              precision    recall  f1-score   support\n",
      "\n",
      "        Kont       1.00      1.00      1.00         6\n",
      "         Dar       0.75      1.00      0.86         6\n",
      "        Flus       1.00      1.00      1.00         6\n",
      "     Missier       1.00      1.00      1.00         7\n",
      "   Passaport       1.00      1.00      1.00         3\n",
      "        Jekk       1.00      1.00      1.00         5\n",
      "     Widnejn       1.00      1.00      1.00         4\n",
      "       Issib       1.00      1.00      1.00         5\n",
      "        Ħalq       1.00      1.00      1.00         8\n",
      "      Tiegħi       1.00      0.80      0.89        10\n",
      "\n",
      "    accuracy                           0.97        60\n",
      "   macro avg       0.97      0.98      0.97        60\n",
      "weighted avg       0.97      0.97      0.97        60\n",
      "\n",
      "Confusion Matrix\n",
      "[[[54  0]\n",
      "  [ 0  6]]\n",
      "\n",
      " [[52  2]\n",
      "  [ 0  6]]\n",
      "\n",
      " [[54  0]\n",
      "  [ 0  6]]\n",
      "\n",
      " [[53  0]\n",
      "  [ 0  7]]\n",
      "\n",
      " [[57  0]\n",
      "  [ 0  3]]\n",
      "\n",
      " [[55  0]\n",
      "  [ 0  5]]\n",
      "\n",
      " [[56  0]\n",
      "  [ 0  4]]\n",
      "\n",
      " [[55  0]\n",
      "  [ 0  5]]\n",
      "\n",
      " [[52  0]\n",
      "  [ 0  8]]\n",
      "\n",
      " [[50  0]\n",
      "  [ 2  8]]]\n",
      "Accuracy\n",
      "0.9666666666666667\n"
     ]
    }
   ],
   "source": [
    "yhat = np.argmax(model.predict(X_test), axis=1)\n",
    "ytrue = np.argmax(y_test, axis=1)\n",
    "print(classification_report(ytrue, yhat, target_names=actions, zero_division=0))\n",
    "print(\"Confusion Matrix\")\n",
    "print(multilabel_confusion_matrix(ytrue, yhat))\n",
    "print(\"Accuracy\")\n",
    "print(accuracy_score(ytrue, yhat))"
   ]
  },
  {
   "cell_type": "code",
   "execution_count": 11,
   "metadata": {},
   "outputs": [
    {
     "name": "stdout",
     "output_type": "stream",
     "text": [
      "2/2 [==============================] - 0s 4ms/step\n"
     ]
    },
    {
     "data": {
      "text/plain": [
       "<Figure size 900x600 with 0 Axes>"
      ]
     },
     "metadata": {},
     "output_type": "display_data"
    },
    {
     "data": {
      "image/png": "[encoded data removed]",
      "text/plain": [
       "<Figure size 640x480 with 2 Axes>"
      ]
     },
     "metadata": {},
     "output_type": "display_data"
    }
   ],
   "source": [
    "from sklearn.metrics import confusion_matrix, ConfusionMatrixDisplay\n",
    "import numpy as np\n",
    "\n",
    "y_pred = np.argmax(model.predict(X_test), axis=1)\n",
    "y_true = np.argmax(y_test, axis=1)\n",
    "\n",
    "cm = confusion_matrix(y_true, y_pred)\n",
    "\n",
    "plt.figure(figsize=(9, 6))\n",
    "ConfusionMatrixDisplay(cm, display_labels=actions).plot(cmap='Blues')\n",
    "plt.title('Full Dataset Confusion Matrix')\n",
    "plt.show()\n"
   ]
  },
  {
   "cell_type": "code",
   "execution_count": null,
   "metadata": {},
   "outputs": [],
   "source": [
    "model.save('model1.h5')"
   ]
  }
 ],
 "metadata": {
  "kernelspec": {
   "display_name": "Carm3.0",
   "language": "python",
   "name": "python3"
  },
  "language_info": {
   "codemirror_mode": {
    "name": "ipython",
    "version": 3
   },
   "file_extension": ".py",
   "mimetype": "text/x-python",
   "name": "python",
   "nbconvert_exporter": "python",
   "pygments_lexer": "ipython3",
   "version": "3.8.18"
  }
 },
 "nbformat": 4,
 "nbformat_minor": 2
}
